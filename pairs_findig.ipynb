{
  "nbformat": 4,
  "nbformat_minor": 0,
  "metadata": {
    "colab": {
      "provenance": [],
      "authorship_tag": "ABX9TyNLklRiE9+pvyIjKsOoKv32",
      "include_colab_link": true
    },
    "kernelspec": {
      "name": "python3",
      "display_name": "Python 3"
    },
    "language_info": {
      "name": "python"
    }
  },
  "cells": [
    {
      "cell_type": "markdown",
      "metadata": {
        "id": "view-in-github",
        "colab_type": "text"
      },
      "source": [
        "<a href=\"https://colab.research.google.com/github/gromeron/pairs_finder/blob/main/pairs_findig.ipynb\" target=\"_parent\"><img src=\"https://colab.research.google.com/assets/colab-badge.svg\" alt=\"Open In Colab\"/></a>"
      ]
    },
    {
      "cell_type": "markdown",
      "source": [
        "Brute force"
      ],
      "metadata": {
        "id": "qlNwy0AiM05H"
      }
    },
    {
      "cell_type": "code",
      "source": [
        "def pairs_finder_1(arr, sum):\n",
        "    \n",
        "    s1 = []\n",
        "\n",
        "    for i in range(0,len(arr)):\n",
        "        for j in range(1,len(arr)-1):\n",
        "            if(arr[i] + arr[j]) == sum:\n",
        "                s1.append(arr[i])\n",
        "                s1.append(arr[j])\n",
        "\n",
        "    return s1"
      ],
      "metadata": {
        "id": "e8Ya6jPBEFJo"
      },
      "execution_count": 18,
      "outputs": []
    },
    {
      "cell_type": "markdown",
      "source": [
        "Enumerate 1"
      ],
      "metadata": {
        "id": "EpFKR6TsM6rt"
      }
    },
    {
      "cell_type": "code",
      "execution_count": 19,
      "metadata": {
        "id": "zUWSuuCDB_qL"
      },
      "outputs": [],
      "source": [
        "def pairs_finder_2(arr, sum):\n",
        "\n",
        "    s1 = {}\n",
        "\n",
        "    for i, v in enumerate(arr):\n",
        "        diff = sum - v\n",
        "        if diff in arr:\n",
        "            s1[v] = diff\n",
        "    return s1"
      ]
    },
    {
      "cell_type": "markdown",
      "source": [
        "George 1"
      ],
      "metadata": {
        "id": "16T6q8JhM90Y"
      }
    },
    {
      "cell_type": "code",
      "source": [
        "def pairs_finder_3(arr, sum):\n",
        "\n",
        "    s1 = set(arr)\n",
        "    s2 = {}\n",
        "\n",
        "    for v in s1:\n",
        "        diff = sum - v\n",
        "        if diff in s1:\n",
        "            s2[v] = diff\n",
        "        else:\n",
        "          s1.add(v)\n",
        "    return s2, s1"
      ],
      "metadata": {
        "id": "tUFEFRFrNBBl"
      },
      "execution_count": 20,
      "outputs": []
    },
    {
      "cell_type": "markdown",
      "source": [
        "Final Code"
      ],
      "metadata": {
        "id": "Z9OhJK3ookMQ"
      }
    },
    {
      "cell_type": "code",
      "source": [
        "def pairs_finder_4(arr, sum):\n",
        "\n",
        "    s1 = {}\n",
        "    s2 = {}\n",
        "    \n",
        "    for i, v in enumerate(arr):\n",
        "        diff = sum - v\n",
        "        s1[v] = diff\n",
        "        if diff in s1:\n",
        "            s2[v] = diff\n",
        "\n",
        "    return s2"
      ],
      "metadata": {
        "id": "kclr1lh4odgi"
      },
      "execution_count": 21,
      "outputs": []
    },
    {
      "cell_type": "markdown",
      "source": [
        "Testing finder # 1"
      ],
      "metadata": {
        "id": "1jNLHA3jFsLL"
      }
    },
    {
      "cell_type": "code",
      "source": [
        "pairs_finder_1([1,9,5,0,20,-4,12,16,7], 12)"
      ],
      "metadata": {
        "colab": {
          "base_uri": "https://localhost:8080/"
        },
        "id": "GgvLJ4TsLU-2",
        "outputId": "9655d6e6-230b-4877-f23f-abb00763c6ac"
      },
      "execution_count": 22,
      "outputs": [
        {
          "output_type": "execute_result",
          "data": {
            "text/plain": [
              "[0, 12, -4, 16, 12, 0, 16, -4, 7, 5]"
            ]
          },
          "metadata": {},
          "execution_count": 22
        }
      ]
    },
    {
      "cell_type": "code",
      "source": [
        "%time pairs_finder_1([1,9,5,0,20,-4,12,16,7], 12)"
      ],
      "metadata": {
        "colab": {
          "base_uri": "https://localhost:8080/"
        },
        "id": "wm2TxQmZC5Zh",
        "outputId": "6c9560fe-86e0-46b5-b093-1d877ac88d9f"
      },
      "execution_count": 23,
      "outputs": [
        {
          "output_type": "stream",
          "name": "stdout",
          "text": [
            "CPU times: user 26 µs, sys: 0 ns, total: 26 µs\n",
            "Wall time: 34.3 µs\n"
          ]
        },
        {
          "output_type": "execute_result",
          "data": {
            "text/plain": [
              "[0, 12, -4, 16, 12, 0, 16, -4, 7, 5]"
            ]
          },
          "metadata": {},
          "execution_count": 23
        }
      ]
    },
    {
      "cell_type": "code",
      "source": [
        "%timeit pairs_finder_1([1,9,5,0,20,-4,12,16,7], 12)"
      ],
      "metadata": {
        "colab": {
          "base_uri": "https://localhost:8080/"
        },
        "id": "KicDiEIOFBJz",
        "outputId": "ab8aa24a-6943-4628-e47a-e76e0ddb95a9"
      },
      "execution_count": 24,
      "outputs": [
        {
          "output_type": "stream",
          "name": "stdout",
          "text": [
            "12.5 µs ± 3.87 µs per loop (mean ± std. dev. of 7 runs, 100000 loops each)\n"
          ]
        }
      ]
    },
    {
      "cell_type": "markdown",
      "source": [
        "Testing finder # 2"
      ],
      "metadata": {
        "id": "OXHw3RoWF13R"
      }
    },
    {
      "cell_type": "code",
      "source": [
        "pairs_finder_2([1,9,5,0,20,-4,12,16,7], 12)"
      ],
      "metadata": {
        "colab": {
          "base_uri": "https://localhost:8080/"
        },
        "id": "aODcHnuALiZA",
        "outputId": "8e19a70b-ddc3-4663-fcd1-089dc650dfd6"
      },
      "execution_count": 25,
      "outputs": [
        {
          "output_type": "execute_result",
          "data": {
            "text/plain": [
              "{5: 7, 0: 12, -4: 16, 12: 0, 16: -4, 7: 5}"
            ]
          },
          "metadata": {},
          "execution_count": 25
        }
      ]
    },
    {
      "cell_type": "code",
      "source": [
        "%time pairs_finder_2([1,9,5,0,20,-4,12,16,7], 12)"
      ],
      "metadata": {
        "colab": {
          "base_uri": "https://localhost:8080/"
        },
        "id": "gvDsifPNDhtl",
        "outputId": "99680bc8-cfcd-459c-9f4a-158159d24031"
      },
      "execution_count": 26,
      "outputs": [
        {
          "output_type": "stream",
          "name": "stdout",
          "text": [
            "CPU times: user 9 µs, sys: 1e+03 ns, total: 10 µs\n",
            "Wall time: 12.2 µs\n"
          ]
        },
        {
          "output_type": "execute_result",
          "data": {
            "text/plain": [
              "{5: 7, 0: 12, -4: 16, 12: 0, 16: -4, 7: 5}"
            ]
          },
          "metadata": {},
          "execution_count": 26
        }
      ]
    },
    {
      "cell_type": "code",
      "source": [
        "%timeit pairs_finder_2([1,9,5,0,20,-4,12,16,7], 12)"
      ],
      "metadata": {
        "colab": {
          "base_uri": "https://localhost:8080/"
        },
        "id": "8WsZDYYDFIja",
        "outputId": "6d3543ee-76aa-41fb-e163-bb886e115852"
      },
      "execution_count": 27,
      "outputs": [
        {
          "output_type": "stream",
          "name": "stdout",
          "text": [
            "2.35 µs ± 74.8 ns per loop (mean ± std. dev. of 7 runs, 100000 loops each)\n"
          ]
        }
      ]
    },
    {
      "cell_type": "markdown",
      "source": [
        "Testing finder # 3"
      ],
      "metadata": {
        "id": "Pd7PsjHlNYAm"
      }
    },
    {
      "cell_type": "code",
      "source": [
        "pairs_finder_3([1,9,5,0,20,-4,12,16,7], 12)"
      ],
      "metadata": {
        "colab": {
          "base_uri": "https://localhost:8080/"
        },
        "id": "dLazGYhhLmXt",
        "outputId": "4abefe19-5e71-491e-f857-30a4df0affbd"
      },
      "execution_count": 28,
      "outputs": [
        {
          "output_type": "execute_result",
          "data": {
            "text/plain": [
              "({0: 12, 5: 7, 7: 5, 12: 0, 16: -4, -4: 16}, {-4, 0, 1, 5, 7, 9, 12, 16, 20})"
            ]
          },
          "metadata": {},
          "execution_count": 28
        }
      ]
    },
    {
      "cell_type": "code",
      "source": [
        "%time pairs_finder_3([1,9,5,0,20,-4,12,16,7], 12)"
      ],
      "metadata": {
        "colab": {
          "base_uri": "https://localhost:8080/"
        },
        "id": "zZkhhnWMNbzF",
        "outputId": "0956961b-c77a-4921-8b14-5df707263782"
      },
      "execution_count": 29,
      "outputs": [
        {
          "output_type": "stream",
          "name": "stdout",
          "text": [
            "CPU times: user 10 µs, sys: 0 ns, total: 10 µs\n",
            "Wall time: 13.4 µs\n"
          ]
        },
        {
          "output_type": "execute_result",
          "data": {
            "text/plain": [
              "({0: 12, 5: 7, 7: 5, 12: 0, 16: -4, -4: 16}, {-4, 0, 1, 5, 7, 9, 12, 16, 20})"
            ]
          },
          "metadata": {},
          "execution_count": 29
        }
      ]
    },
    {
      "cell_type": "code",
      "source": [
        "%timeit pairs_finder_3([1,9,5,0,20,-4,12,16,7], 12)"
      ],
      "metadata": {
        "colab": {
          "base_uri": "https://localhost:8080/"
        },
        "id": "7SNXBf5zNfQ3",
        "outputId": "5205e55a-f846-45ae-ad0b-e89342aeb55e"
      },
      "execution_count": 30,
      "outputs": [
        {
          "output_type": "stream",
          "name": "stdout",
          "text": [
            "1.96 µs ± 18.2 ns per loop (mean ± std. dev. of 7 runs, 1000000 loops each)\n"
          ]
        }
      ]
    },
    {
      "cell_type": "markdown",
      "source": [
        "Testing finder # 4"
      ],
      "metadata": {
        "id": "zs3syYMtowHV"
      }
    },
    {
      "cell_type": "code",
      "source": [
        "pairs_finder_4([1,9,5,0,20,-4,12,16,7], 12)"
      ],
      "metadata": {
        "colab": {
          "base_uri": "https://localhost:8080/"
        },
        "id": "CYKP-jTZo0s4",
        "outputId": "6d9761b8-0bb3-40cb-8838-3845406271ef"
      },
      "execution_count": 31,
      "outputs": [
        {
          "output_type": "execute_result",
          "data": {
            "text/plain": [
              "{12: 0, 16: -4, 7: 5}"
            ]
          },
          "metadata": {},
          "execution_count": 31
        }
      ]
    },
    {
      "cell_type": "code",
      "source": [
        "%time pairs_finder_4([1,9,5,0,20,-4,12,16,7], 12)"
      ],
      "metadata": {
        "colab": {
          "base_uri": "https://localhost:8080/"
        },
        "id": "_LKhNOh4o2_P",
        "outputId": "c7785581-5197-4d0b-a7a0-44ac56f094d0"
      },
      "execution_count": 32,
      "outputs": [
        {
          "output_type": "stream",
          "name": "stdout",
          "text": [
            "CPU times: user 8 µs, sys: 0 ns, total: 8 µs\n",
            "Wall time: 12.2 µs\n"
          ]
        },
        {
          "output_type": "execute_result",
          "data": {
            "text/plain": [
              "{12: 0, 16: -4, 7: 5}"
            ]
          },
          "metadata": {},
          "execution_count": 32
        }
      ]
    },
    {
      "cell_type": "code",
      "source": [
        "%timeit pairs_finder_4([1,9,5,0,20,-4,12,16,7], 12)"
      ],
      "metadata": {
        "colab": {
          "base_uri": "https://localhost:8080/"
        },
        "id": "cEQLvonpo5L4",
        "outputId": "be2d5bd3-39fa-4b78-e4ef-c8c181f9333b"
      },
      "execution_count": 33,
      "outputs": [
        {
          "output_type": "stream",
          "name": "stdout",
          "text": [
            "2.09 µs ± 109 ns per loop (mean ± std. dev. of 7 runs, 100000 loops each)\n"
          ]
        }
      ]
    },
    {
      "cell_type": "code",
      "source": [
        "def show_results(s2):\n",
        "    for key, values in s2.items():\n",
        "        print(\"+ \",key,\",\",values)"
      ],
      "metadata": {
        "id": "VkHody5uCYUp"
      },
      "execution_count": null,
      "outputs": []
    },
    {
      "cell_type": "code",
      "source": [
        "if __name__ == '__main__':\n",
        "\n",
        "    arr = list(map(int, input('> Enter comma separated integers: ').rstrip().split(',')))\n",
        "    \n",
        "    sum = int(input('> Please enter the sum value: ').strip())\n",
        "\n",
        "    result = pairs_finder_4(arr, sum)\n",
        "\n",
        "    print(f'the solution is: {result}')\n",
        "    show_results(result)"
      ],
      "metadata": {
        "colab": {
          "base_uri": "https://localhost:8080/"
        },
        "id": "jWtGBb6cCgwE",
        "outputId": "8425113e-66d1-421c-cf4e-5cf20086ad40"
      },
      "execution_count": null,
      "outputs": [
        {
          "output_type": "stream",
          "name": "stdout",
          "text": [
            "> Enter comma separated integers: 1,9,5,0,20,-4,12,16,7\n",
            "> Please enter the sum value: 12\n",
            "the solution is: {5: 7, 0: 12, -4: 16, 12: 0, 16: -4, 7: 5}\n",
            "+  5 , 7\n",
            "+  0 , 12\n",
            "+  -4 , 16\n",
            "+  12 , 0\n",
            "+  16 , -4\n",
            "+  7 , 5\n"
          ]
        }
      ]
    }
  ]
}